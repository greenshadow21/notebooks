{
 "cells": [
  {
   "cell_type": "code",
   "execution_count": 2,
   "metadata": {},
   "outputs": [
    {
     "ename": "ModuleNotFoundError",
     "evalue": "No module named 'cvxpy'",
     "output_type": "error",
     "traceback": [
      "\u001b[1;31m---------------------------------------------------------------------------\u001b[0m",
      "\u001b[1;31mModuleNotFoundError\u001b[0m                       Traceback (most recent call last)",
      "\u001b[1;32m<ipython-input-2-e2bf6ca5329c>\u001b[0m in \u001b[0;36m<module>\u001b[1;34m\u001b[0m\n\u001b[0;32m      4\u001b[0m \u001b[1;32mimport\u001b[0m \u001b[0mnetworkx\u001b[0m \u001b[1;32mas\u001b[0m \u001b[0mnx\u001b[0m\u001b[1;33m\u001b[0m\u001b[0m\n\u001b[0;32m      5\u001b[0m \u001b[1;32mimport\u001b[0m \u001b[0mtime\u001b[0m\u001b[1;33m\u001b[0m\u001b[0m\n\u001b[1;32m----> 6\u001b[1;33m \u001b[1;32mimport\u001b[0m \u001b[0mcvxpy\u001b[0m \u001b[1;32mas\u001b[0m \u001b[0mcvx\u001b[0m\u001b[1;33m\u001b[0m\u001b[0m\n\u001b[0m\u001b[0;32m      7\u001b[0m \u001b[1;32mfrom\u001b[0m \u001b[0mscipy\u001b[0m \u001b[1;32mimport\u001b[0m \u001b[0mlinalg\u001b[0m\u001b[1;33m,\u001b[0m \u001b[0msparse\u001b[0m\u001b[1;33m\u001b[0m\u001b[0m\n\u001b[0;32m      8\u001b[0m \u001b[1;32mfrom\u001b[0m \u001b[0mscipy\u001b[0m\u001b[1;33m.\u001b[0m\u001b[0moptimize\u001b[0m \u001b[1;32mimport\u001b[0m \u001b[0mminimize\u001b[0m\u001b[1;33m\u001b[0m\u001b[0m\n",
      "\u001b[1;31mModuleNotFoundError\u001b[0m: No module named 'cvxpy'"
     ]
    }
   ],
   "source": [
    "import numpy as np\n",
    "import ctypes \n",
    "import matplotlib.pyplot as plt\n",
    "import networkx as nx\n",
    "import time\n",
    "import cvxpy as cvx\n",
    "from scipy import linalg, sparse\n",
    "from scipy.optimize import minimize\n",
    "from numpy.ctypeslib import ndpointer\n",
    "from typing import Tuple\n",
    "\n",
    "%matplotlib inline"
   ]
  },
  {
   "cell_type": "markdown",
   "metadata": {},
   "source": [
    "# Моделирование квантового алгоритма QAOA и его сравнение с классическими алгоритмами"
   ]
  },
  {
   "cell_type": "code",
   "execution_count": 2,
   "metadata": {},
   "outputs": [],
   "source": [
    "plt.style.use('seaborn')"
   ]
  },
  {
   "cell_type": "markdown",
   "metadata": {},
   "source": [
    "## Импортируем QuEST"
   ]
  },
  {
   "cell_type": "markdown",
   "metadata": {},
   "source": [
    "double MaxCut (int *arr, int numOfNodes, int numOfEdges, double* angles, int numOfAngles);"
   ]
  },
  {
   "cell_type": "code",
   "execution_count": 3,
   "metadata": {},
   "outputs": [],
   "source": [
    "quest = ctypes.CDLL(\"./libQuEST.so\")"
   ]
  },
  {
   "cell_type": "markdown",
   "metadata": {},
   "source": [
    "Получаем функцию maxcut из quest, полный ее код приведен в последней ячейке"
   ]
  },
  {
   "cell_type": "code",
   "execution_count": 4,
   "metadata": {},
   "outputs": [],
   "source": [
    "maxcut = quest.MaxCut"
   ]
  },
  {
   "cell_type": "markdown",
   "metadata": {},
   "source": [
    "Указываем тип возвращаемого значения"
   ]
  },
  {
   "cell_type": "code",
   "execution_count": 5,
   "metadata": {},
   "outputs": [],
   "source": [
    "maxcut.restype = ctypes.c_double"
   ]
  },
  {
   "cell_type": "markdown",
   "metadata": {},
   "source": [
    "Задаем тип принимаемых аргументов"
   ]
  },
  {
   "cell_type": "code",
   "execution_count": 6,
   "metadata": {},
   "outputs": [],
   "source": [
    "maxcut.argtypes = [ndpointer(ctypes.c_int, flags=\"C_CONTIGUOUS\"),\n",
    "                ctypes.c_int,\n",
    "                ctypes.c_int,\n",
    "                ndpointer(ctypes.c_double, flags=\"C_CONTIGUOUS\"),\n",
    "                ctypes.c_int]"
   ]
  },
  {
   "cell_type": "markdown",
   "metadata": {},
   "source": [
    "Основная процедура программы оформлена в виде одной функции, которая принимает на вход произвольный граф и число слоев, а возвращает среднее значение гамильтониана задачи"
   ]
  },
  {
   "cell_type": "code",
   "execution_count": 7,
   "metadata": {},
   "outputs": [],
   "source": [
    "def optimize(G, p):\n",
    "    \"\"\"\n",
    "        G - исходный граф\n",
    "        p - число слоев\n",
    "    \"\"\"\n",
    "    \n",
    "    # Подфункция, которая вызывает maxcut для заданного набора углов и заданного графа\n",
    "    def f(angle):\n",
    "        # преобразуем list в np.double, который можно подать на вход maxcut\n",
    "        angles = np.array(angle, dtype=np.double)\n",
    "        return -maxcut(graph_arr, len(nodes), len(edges), angles, len(angles))\n",
    "    \n",
    "    # Получаем все вершины графа\n",
    "    nodes = sorted(tuple(G.nodes))\n",
    "    \n",
    "    # Получаем ребра графа\n",
    "    edges = tuple(G.edges)\n",
    "    \n",
    "    # Записываем каждое ребро последовательно в лист\n",
    "    graph_arr = []\n",
    "    for i in edges:\n",
    "        for j in i:\n",
    "            graph_arr.append(j)\n",
    "            \n",
    "    # Превращаем лист в np.int32\n",
    "    graph_arr = np.array(graph_arr, dtype=np.int32)\n",
    "    \n",
    "    # Задаем границы для оптимизационного алгоритма, а также начальное приближенпие\n",
    "    bounds = []\n",
    "    x0 = []\n",
    "    for i in range(p):\n",
    "        bounds.append((0, 2*np.pi))\n",
    "        bounds.append((0, np.pi))\n",
    "        # В качестве начального приближения берем произвольную точку\n",
    "        x0.append(np.random.rand()*np.pi*2)\n",
    "        x0.append(np.random.rand()*np.pi)\n",
    "    bounds = tuple(bounds)\n",
    "    \n",
    "    # Наконец, вызываем оптимизационный алгоритм\n",
    "    res = (minimize(f, x0, method='L-BFGS-B',\n",
    "                   options={'gtol': 1e-6, 'disp': True},\n",
    "                   bounds=bounds))\n",
    "    \n",
    "    return res"
   ]
  },
  {
   "cell_type": "code",
   "execution_count": null,
   "metadata": {},
   "outputs": [],
   "source": [
    "def procedure(G, p):\n",
    "    \"\"\"\n",
    "        G - исходный граф\n",
    "        p - число слоев\n",
    "    \"\"\"\n",
    "    \n",
    "    # Подфункция, которая вызывает maxcut для заданного набора углов и заданного графа\n",
    "    def f(angle):\n",
    "        # преобразуем list в np.double, который можно подать на вход maxcut\n",
    "        angles = np.array(angle, dtype=np.double)\n",
    "        return -maxcut(graph_arr, len(nodes), len(edges), angles, len(angles))\n",
    "    \n",
    "    # Получаем все вершины графа\n",
    "    nodes = sorted(tuple(G.nodes))\n",
    "    \n",
    "    # Получаем ребра графа\n",
    "    edges = tuple(G.edges)\n",
    "    \n",
    "    # Записываем каждое ребро последовательно в лист\n",
    "    graph_arr = []\n",
    "    for i in edges:\n",
    "        for j in i:\n",
    "            graph_arr.append(j)\n",
    "            \n",
    "    # Превращаем лист в np.int32\n",
    "    graph_arr = np.array(graph_arr, dtype=np.int32)\n",
    "    \n",
    "    # Задаем границы для оптимизационного алгоритма, а также начальное приближенпие\n",
    "    bounds = []\n",
    "    x0 = []\n",
    "    for i in range(p):\n",
    "        bounds.append((0, 2*np.pi))\n",
    "        bounds.append((0, np.pi))\n",
    "        # В качестве начального приближения берем произвольную точку\n",
    "        x0.append(np.random.rand()*np.pi*2)\n",
    "        x0.append(np.random.rand()*np.pi)\n",
    "    bounds = tuple(bounds)\n",
    "    \n",
    "    # Наконец, вызываем оптимизационный алгоритм\n",
    "    result = []\n",
    "    for i in range(5):\n",
    "        res = (minimize(f, x0, method='L-BFGS-B',\n",
    "                   options={'gtol': 1e-6, 'disp': True},\n",
    "                   bounds=bounds))\n",
    "        result.append(-res.fun)\n",
    "    return max(result)"
   ]
  },
  {
   "cell_type": "markdown",
   "metadata": {},
   "source": [
    "### Классический алгоритм"
   ]
  },
  {
   "cell_type": "code",
   "execution_count": 8,
   "metadata": {},
   "outputs": [],
   "source": [
    "def goemans_williamson(graph: nx.Graph) -> Tuple[np.ndarray, float, float]:\n",
    "    \"\"\"\n",
    "    The Goemans-Williamson algorithm for solving the maxcut problem.\n",
    "\n",
    "    Ref:\n",
    "        Goemans, M.X. and Williamson, D.P., 1995. Improved approximation\n",
    "        algorithms for maximum cut and satisfiability problems using\n",
    "        semidefinite programming. Journal of the ACM (JACM), 42(6), 1115-1145\n",
    "    Returns:\n",
    "        np.ndarray: Graph coloring (+/-1 for each node)\n",
    "        float:      The GW score for this cut.\n",
    "        float:      The GW bound from the SDP relaxation\n",
    "    \"\"\"\n",
    "    # Kudos: Originally implementation by Nick Rubin, with refactoring and\n",
    "    # cleanup by Jonathon Ward and Gavin E. Crooks\n",
    "    laplacian = np.array(0.25 * nx.laplacian_matrix(graph).todense())\n",
    "\n",
    "    # Setup and solve the GW semidefinite programming problem\n",
    "    psd_mat = cvx.Variable(laplacian.shape, PSD=True)\n",
    "    obj = cvx.Maximize(cvx.trace(laplacian * psd_mat))\n",
    "    constraints = [cvx.diag(psd_mat) == 1]  # unit norm\n",
    "    prob = cvx.Problem(obj, constraints)\n",
    "    prob.solve(solver=cvx.CVXOPT)\n",
    "\n",
    "    evals, evects = np.linalg.eigh(psd_mat.value)\n",
    "    sdp_vectors = evects.T[evals > float(1.0E-6)].T\n",
    "\n",
    "    # Bound from the SDP relaxation\n",
    "    bound = np.trace(laplacian @ psd_mat.value)\n",
    "\n",
    "    random_vector = np.random.randn(sdp_vectors.shape[1])\n",
    "    random_vector /= np.linalg.norm(random_vector)\n",
    "    colors = np.sign([vec @ random_vector for vec in sdp_vectors])\n",
    "    score = colors @ laplacian @ colors.T\n",
    "\n",
    "    return colors, score, bound"
   ]
  },
  {
   "cell_type": "code",
   "execution_count": 189,
   "metadata": {},
   "outputs": [
    {
     "data": {
      "image/png": "[encoded data removed]",
      "text/plain": [
       "<Figure size 432x288 with 1 Axes>"
      ]
     },
     "metadata": {},
     "output_type": "display_data"
    }
   ],
   "source": [
    "G = nx.petersen_graph()\n",
    "nodes = sorted(tuple(G.nodes))\n",
    "edges = tuple(G.edges)\n",
    "nx.draw_shell(G, nlist=[range(5, 10), range(5)], with_labels=True, font_weight='bold')"
   ]
  },
  {
   "cell_type": "code",
   "execution_count": 195,
   "metadata": {},
   "outputs": [
    {
     "data": {
      "text/plain": [
       "      fun: -11.64889191289107\n",
       " hess_inv: <6x6 LbfgsInvHessProduct with dtype=float64>\n",
       "      jac: array([-1.06581410e-06, -2.48689958e-06, -3.01980663e-06, -1.77635684e-06,\n",
       "       -1.95399252e-06,  1.24344979e-06])\n",
       "  message: b'CONVERGENCE: REL_REDUCTION_OF_F_<=_FACTR*EPSMCH'\n",
       "     nfev: 273\n",
       "      nit: 27\n",
       "   status: 0\n",
       "  success: True\n",
       "        x: array([3.87799824, 2.13842908, 2.89113381, 1.31151123, 1.49434983,\n",
       "       2.74170467])"
      ]
     },
     "execution_count": 195,
     "metadata": {},
     "output_type": "execute_result"
    }
   ],
   "source": [
    "optimize(G, 3)"
   ]
  },
  {
   "cell_type": "code",
   "execution_count": 161,
   "metadata": {},
   "outputs": [
    {
     "name": "stdout",
     "output_type": "stream",
     "text": [
      "CPU times: user 8min 7s, sys: 5min 36s, total: 13min 44s\n",
      "Wall time: 3min 46s\n"
     ]
    }
   ],
   "source": [
    "%%time\n",
    "\n",
    "classic_scores = []\n",
    "for i in range(1000):\n",
    "    partition, _, bound = goemans_williamson(G)\n",
    "    classic_scores.append(_)\n",
    "classic_score = np.mean(classic_scores)\n",
    "result = max(classic_scores)\n",
    "proba = classic_scores.count(result)/1000"
   ]
  },
  {
   "cell_type": "markdown",
   "metadata": {},
   "source": [
    "# Код MaxCut"
   ]
  },
  {
   "cell_type": "markdown",
   "metadata": {},
   "source": [
    "```\n",
    "double MaxCut (int *arr, int numOfNodes, int numOfEdges, double* angles, int numOfAngles) {\n",
    "    \n",
    "    QuESTEnv env = createQuESTEnv();\n",
    "    Qureg qubits = createQureg(numOfNodes, env);\n",
    "    Qureg estimates = createQureg(numOfNodes, env);\n",
    "    int paulis[numOfNodes*(numOfEdges+1)];\n",
    "    double result;\n",
    "    qreal coeffs[numOfEdges+1];\n",
    "\n",
    "    initPlusState(qubits);\n",
    "    for (int p = 0; p < numOfAngles; p+=2) {\n",
    "        int temp[2];\n",
    "        for (int i = 0; i < numOfEdges; i++) {\n",
    "            temp[0] = *(arr+2*i);\n",
    "            temp[1] = *(arr+2*i+1);\n",
    "            multiRotateZ(qubits, temp, 2, angles[p]);\n",
    "        }\n",
    "        \n",
    "        for (int i = 0; i < numOfNodes; i++) {\n",
    "            rotateX(qubits, i, angles[p+1]);\n",
    "        }\n",
    "\n",
    "    }\n",
    "        \n",
    "    for (int i = 0; i < numOfNodes; i++) {\n",
    "        paulis[i] = PAULI_I;\n",
    "    }\n",
    "    \n",
    "    {\n",
    "        int temp[numOfNodes];\n",
    "        int position = numOfNodes;\n",
    "        for (int i = 0; i < numOfEdges; i++) {\n",
    "            for (int j = 0; j < numOfNodes; j++) {\n",
    "                temp[j] = PAULI_I;\n",
    "            }\n",
    "            temp[*(arr+2*i)] = PAULI_Z;\n",
    "            temp[*(arr+2*i+1)] = PAULI_Z;\n",
    "            for (int j = 0; j < numOfNodes; j++) {\n",
    "                paulis[position+j] = temp[j];\n",
    "            }\n",
    "            position += numOfNodes;\n",
    "        }\n",
    "    }\n",
    "    \n",
    "    coeffs[0] = (double)numOfEdges*1/2;\n",
    "    for (int i = 1; i < numOfEdges+1; i++) {\n",
    "        coeffs[i] = -0.5; \n",
    "    }\n",
    "\n",
    "    result = calcExpecPauliSum(qubits, paulis, coeffs, numOfEdges+1, estimates);\n",
    "    destroyQureg(qubits, env);\n",
    "    destroyQureg(estimates, env);\n",
    "    destroyQuESTEnv(env);\n",
    "    return result;\n",
    "}\n",
    "\n",
    "```"
   ]
  }
 ],
 "metadata": {
  "kernelspec": {
   "display_name": "Python 3",
   "language": "python",
   "name": "python3"
  },
  "language_info": {
   "codemirror_mode": {
    "name": "ipython",
    "version": 3
   },
   "file_extension": ".py",
   "mimetype": "text/x-python",
   "name": "python",
   "nbconvert_exporter": "python",
   "pygments_lexer": "ipython3",
   "version": "3.6.5"
  }
 },
 "nbformat": 4,
 "nbformat_minor": 4
}
