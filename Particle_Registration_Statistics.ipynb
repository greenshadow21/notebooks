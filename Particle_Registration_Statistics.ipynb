{
 "cells": [
  {
   "cell_type": "code",
   "execution_count": 1,
   "metadata": {},
   "outputs": [],
   "source": [
    "import numpy as np\n",
    "import matplotlib.pyplot as plt"
   ]
  },
  {
   "cell_type": "code",
   "execution_count": 2,
   "metadata": {},
   "outputs": [],
   "source": [
    "plt.style.use('seaborn')\n",
    "\n",
    "%matplotlib inline"
   ]
  },
  {
   "cell_type": "markdown",
   "metadata": {},
   "source": [
    "# Общий ядерный практикум \n",
    "\n",
    "## Лабораторная работа 14. Статистика регистрации частиц"
   ]
  },
  {
   "cell_type": "markdown",
   "metadata": {},
   "source": [
    "Задачей работы является доказательство или опровержение гипотезы о радиактивности источника, который представляет собой удобрение, содержащее $^{40}K$. Формальным подходом является проведедения эксперимента, который даст две выборки, а затем постановка статистической гипотезы о том, что обе выборки описываются одним законом распределения."
   ]
  },
  {
   "cell_type": "markdown",
   "metadata": {},
   "source": [
    "### Экспериментальные данные "
   ]
  },
  {
   "cell_type": "markdown",
   "metadata": {},
   "source": [
    "Используем следующее время в качестве длительности одного измерения"
   ]
  },
  {
   "cell_type": "code",
   "execution_count": 3,
   "metadata": {},
   "outputs": [],
   "source": [
    "t = 29.7"
   ]
  },
  {
   "cell_type": "markdown",
   "metadata": {},
   "source": [
    "С помощью счетчика Гейгера измеряем фоновое значение радиации. \n",
    "\n",
    "Выборка состоит из числа отсчетов счетчика Гейгера за указанное выше время"
   ]
  },
  {
   "cell_type": "code",
   "execution_count": 4,
   "metadata": {},
   "outputs": [],
   "source": [
    "N_background = np.array([44, 39, 36, 28, 52, 45, 44, 36, 31, 39,\n",
    "                         38, 36, 41, 33, 39, 49, 38, 42, 44, 48,\n",
    "                         45, 39, 47, 44, 48, 41, 46, 39, 42, 40,\n",
    "                         34, 36, 45, 44, 38, 36, 24, 36, 36, 34,\n",
    "                         35, 61, 42, 51, 40, 45, 48, 46, 42, 38,\n",
    "                         51, 33, 46, 48, 48, 27, 32, 37, 45, 39,\n",
    "                         39, 56, 43, 49, 40, 30, 32, 60, 51, 43,\n",
    "                         42, 37, 49, 41, 41, 47, 33, 37, 37, 43,\n",
    "                         35, 32, 35, 36, 37, 37, 44, 31, 35, 24,\n",
    "                         50, 49, 40, 43, 49, 38, 43, 26, 51, 29])"
   ]
  },
  {
   "cell_type": "markdown",
   "metadata": {},
   "source": [
    "Поставим на счетчик удобрение, содержащее $^{40}K$"
   ]
  },
  {
   "cell_type": "code",
   "execution_count": 5,
   "metadata": {},
   "outputs": [],
   "source": [
    "N_K_40 = np.array([63, 65, 55, 53, 64, 60, 55, 46, 54, 61,\n",
    "                   59, 65, 60, 64, 48, 62, 60, 60, 60, 52,\n",
    "                   56, 52, 48, 53, 67, 69, 53, 51, 51, 53,\n",
    "                   67, 63, 59, 62, 61, 59, 61, 60, 49, 69,\n",
    "                   52, 64, 63, 57, 74, 62, 55, 68, 60, 62,\n",
    "                   53, 54, 63, 67, 53, 48, 47, 57, 72, 55,\n",
    "                   57, 55, 77, 57, 63, 50, 69, 56, 64, 62,\n",
    "                   55, 62, 59, 59, 53, 81, 57, 55, 45, 63,\n",
    "                   52, 67, 50, 67, 50, 83, 43, 38, 65, 69,\n",
    "                   56, 67, 62, 69, 56, 61, 51, 59, 54, 57])"
   ]
  },
  {
   "cell_type": "markdown",
   "metadata": {},
   "source": [
    "Расчитаем оценки среднего значения каждой из выборок"
   ]
  },
  {
   "cell_type": "code",
   "execution_count": 6,
   "metadata": {},
   "outputs": [
    {
     "data": {
      "text/plain": [
       "(40.64, 58.9)"
      ]
     },
     "execution_count": 6,
     "metadata": {},
     "output_type": "execute_result"
    }
   ],
   "source": [
    "mu_1, mu_2 = np.mean(N_background), np.mean(N_K_40)\n",
    "\n",
    "mu_1, mu_2"
   ]
  },
  {
   "cell_type": "markdown",
   "metadata": {},
   "source": [
    "Расчитаем оценку стандартной ошибки среднего"
   ]
  },
  {
   "cell_type": "code",
   "execution_count": 7,
   "metadata": {},
   "outputs": [
    {
     "data": {
      "text/plain": [
       "(0.7197811115088033, 0.774009631135756)"
      ]
     },
     "execution_count": 7,
     "metadata": {},
     "output_type": "execute_result"
    }
   ],
   "source": [
    "s_1, s_2 = np.std(N_background)/np.sqrt(len(N_background)-1), np.std(N_K_40)/np.sqrt(len(N_K_40)-1)\n",
    "\n",
    "s_1, s_2"
   ]
  },
  {
   "cell_type": "markdown",
   "metadata": {},
   "source": [
    "Определим среднюю скорость счета $I_i$ по формуле:\n",
    "\n",
    "$$\n",
    " I_i = \\frac{\\overline{N_i}}{\\Delta t}\n",
    "$$\n",
    "здесь $\\overline{N_i}$ среднее значение выборки $i$, $\\Delta t$ время одного отсчета"
   ]
  },
  {
   "cell_type": "code",
   "execution_count": 8,
   "metadata": {},
   "outputs": [
    {
     "data": {
      "text/plain": [
       "(1.3683501683501684, 1.9831649831649831)"
      ]
     },
     "execution_count": 8,
     "metadata": {},
     "output_type": "execute_result"
    }
   ],
   "source": [
    "I_1, I_2 = mu_1/t, mu_2/t\n",
    "\n",
    "I_1, I_2"
   ]
  },
  {
   "cell_type": "markdown",
   "metadata": {},
   "source": [
    "### Гистограммы\n",
    "\n",
    "На одном графике изобразим значения распределений Пуассона и Гаусса с параметрами, определенными из выборки."
   ]
  },
  {
   "cell_type": "markdown",
   "metadata": {},
   "source": [
    "Рассчитаем значения распределения Пуассона для данных выборок, оценивая параметр распределения через средние значения выборок"
   ]
  },
  {
   "cell_type": "code",
   "execution_count": 9,
   "metadata": {},
   "outputs": [],
   "source": [
    "x_p_1 = np.arange(np.min(N_background), np.max(N_background)+1, 1)\n",
    "y_p_1 = np.array([mu_1**i*np.exp(-mu_1)/np.math.factorial(i) for i in x_p_1])\n",
    "\n",
    "x_p_2 = np.arange(np.min(N_K_40), np.max(N_K_40)+1, 1)\n",
    "y_p_2 = np.array([mu_2**i*np.exp(-mu_2)/np.math.factorial(i) for i in x_p_2])"
   ]
  },
  {
   "cell_type": "markdown",
   "metadata": {},
   "source": [
    "Аналогично для распределения Гаусса"
   ]
  },
  {
   "cell_type": "code",
   "execution_count": 10,
   "metadata": {},
   "outputs": [],
   "source": [
    "x_g_1 = np.arange(np.min(N_background), np.max(N_background)+0.001, 0.001)\n",
    "y_g_1 = np.array([np.exp((-1)*(i-mu_1)**2/2/np.sqrt(mu_1)**2)/np.sqrt(2*np.pi*mu_1) for i in x_g_1])\n",
    "\n",
    "x_g_2 = np.arange(np.min(N_K_40), np.max(N_K_40)+0.001, 0.001)\n",
    "y_g_2 = np.array([np.exp((-1)*(i-mu_2)**2/2/np.sqrt(mu_2)**2)/np.sqrt(2*np.pi*mu_2) for i in x_g_2])"
   ]
  },
  {
   "cell_type": "code",
   "execution_count": 11,
   "metadata": {},
   "outputs": [
    {
     "data": {
      "text/plain": [
       "[20, 90, 0, 0.07]"
      ]
     },
     "execution_count": 11,
     "metadata": {},
     "output_type": "execute_result"
    },
    {
     "data": {
      "image/png": "[encoded data removed]",
      "text/plain": [
       "<Figure size 864x504 with 2 Axes>"
      ]
     },
     "metadata": {
      "needs_background": "light"
     },
     "output_type": "display_data"
    }
   ],
   "source": [
    "fig =  plt.figure(figsize=(12, 7))\n",
    "ax  =  fig.add_subplot(211)\n",
    "plt.hist(N_background, alpha=0.7, density=True, label='Гистограмма фоновой выборки')\n",
    "plt.scatter(x_p_1, y_p_1, label='Распределение Пуассона $\\lambda = \\overline{N(фон)}$')\n",
    "plt.plot(x_g_1, y_g_1, label='Распределение Гаусса $\\mu = \\overline{N(фон)}, \\sigma = \\sqrt{\\mu} $')\n",
    "plt.legend(loc='best', bbox_to_anchor=(1.55, 0., 0, 1), frameon='True', fontsize='x-large')\n",
    "plt.axis([20, 90, 0, 0.07])\n",
    "\n",
    "ax  =  fig.add_subplot(212)\n",
    "plt.hist(N_K_40, alpha=0.7, density=True, label='Гистограмма выборки $^{40}K$')\n",
    "plt.scatter(x_p_2, y_p_2, label='Распределение Пуассона $\\lambda = \\overline{N(^{40}K)}$')\n",
    "plt.plot(x_g_2, y_g_2, label='Распределение Гаусса $\\mu = \\overline{N(^{40}K)}, \\sigma = \\sqrt{\\mu}$')\n",
    "plt.legend(loc='best', bbox_to_anchor=(1.55, 0., 0, 1), frameon='True', fontsize='x-large')\n",
    "plt.axis([20, 90, 0, 0.07])"
   ]
  },
  {
   "cell_type": "markdown",
   "metadata": {},
   "source": [
    "### Эмпирические функции"
   ]
  },
  {
   "cell_type": "markdown",
   "metadata": {},
   "source": [
    "Построим эмпиреческие функции для каждой выборки"
   ]
  },
  {
   "cell_type": "code",
   "execution_count": 12,
   "metadata": {},
   "outputs": [],
   "source": [
    "empirical_function_1 = lambda x: N_background[N_background<=x].size/100\n",
    "empirical_function_2 = lambda x: N_K_40[N_K_40<=x].size/100"
   ]
  },
  {
   "cell_type": "markdown",
   "metadata": {},
   "source": [
    "Вычислим эмпиречкую функцию для каждого значения выборки"
   ]
  },
  {
   "cell_type": "code",
   "execution_count": 13,
   "metadata": {},
   "outputs": [],
   "source": [
    "y_emp_1 = np.array([empirical_function_1(i) for i in x_p_1])\n",
    "y_emp_2 = np.array([empirical_function_2(i) for i in x_p_2])"
   ]
  },
  {
   "cell_type": "markdown",
   "metadata": {},
   "source": [
    "Построим их графики"
   ]
  },
  {
   "cell_type": "code",
   "execution_count": 14,
   "metadata": {},
   "outputs": [
    {
     "data": {
      "text/plain": [
       "<matplotlib.legend.Legend at 0x117c3b3da48>"
      ]
     },
     "execution_count": 14,
     "metadata": {},
     "output_type": "execute_result"
    },
    {
     "data": {
      "image/png": "[encoded data removed]",
      "text/plain": [
       "<Figure size 864x504 with 1 Axes>"
      ]
     },
     "metadata": {
      "needs_background": "light"
     },
     "output_type": "display_data"
    }
   ],
   "source": [
    "fig =  plt.figure(figsize=(12, 7))\n",
    "plt.plot(x_p_1, y_emp_1, label='Эмпирическая функция фоновой выборки')\n",
    "plt.plot(x_p_2, y_emp_2, label='Эмпирическая функция выборки $^{40}K$')\n",
    "plt.legend(loc='best', bbox_to_anchor=(1, 0., 0, 1), frameon='True', fontsize='x-large')"
   ]
  },
  {
   "cell_type": "markdown",
   "metadata": {},
   "source": [
    "Критерий Смирнова\n",
    "---\n",
    "\n",
    "Если статистика $\\displaystyle {\\sqrt {\\frac {nm}{n+m}}}D$ превышает значение квантиль распределения Колмогорова $K_{\\alpha}$ для заданного уровня значимости $\\alpha$, то нулевая гипотеза $H_0$ об однородности выборки отвергается с уровнем доверия $1-\\alpha$."
   ]
  },
  {
   "cell_type": "markdown",
   "metadata": {},
   "source": [
    "Здесь $n$, $m$ размеры выборок, а $D$ определяется следующим образом:\n",
    "$$\n",
    "    D = \\underset{x}{sup} | F(x) - F^{'}(x) |\n",
    "$$\n",
    "здесь $F(x)$ и $F^{'}(x)$ - эмпирические функции распределений"
   ]
  },
  {
   "cell_type": "markdown",
   "metadata": {},
   "source": [
    "Рассчитаем данную величину простым образом, используя наши выборки"
   ]
  },
  {
   "cell_type": "code",
   "execution_count": 15,
   "metadata": {},
   "outputs": [],
   "source": [
    "x_for_d = np.arange(np.min(N_background), np.max(N_K_40), 1) "
   ]
  },
  {
   "cell_type": "code",
   "execution_count": 16,
   "metadata": {},
   "outputs": [
    {
     "data": {
      "text/plain": [
       "0.8200000000000001"
      ]
     },
     "execution_count": 16,
     "metadata": {},
     "output_type": "execute_result"
    }
   ],
   "source": [
    "D = np.max(np.array([np.abs(empirical_function_1(i)-empirical_function_2(i)) for i in x_for_d]))\n",
    "\n",
    "D"
   ]
  },
  {
   "cell_type": "markdown",
   "metadata": {},
   "source": [
    "Тогда значение статистики"
   ]
  },
  {
   "cell_type": "code",
   "execution_count": 17,
   "metadata": {},
   "outputs": [
    {
     "data": {
      "text/plain": [
       "5.798275605729691"
      ]
     },
     "execution_count": 17,
     "metadata": {},
     "output_type": "execute_result"
    }
   ],
   "source": [
    "np.sqrt(len(N_background)*len(N_K_40)/(len(N_background)+len(N_K_40)))*D"
   ]
  },
  {
   "cell_type": "markdown",
   "metadata": {},
   "source": [
    "Задавшись уровнем значимости $1-\\alpha =  0.9999$ мы можем оценить значения квантиля распределения Колмогорова следующим образом:\n",
    "$$\n",
    "    K_{\\alpha} = \\sqrt{-\\frac12 \\log\\frac{\\alpha}{2}}\n",
    "$$"
   ]
  },
  {
   "cell_type": "code",
   "execution_count": 18,
   "metadata": {},
   "outputs": [
    {
     "data": {
      "text/plain": [
       "2.2253"
      ]
     },
     "execution_count": 18,
     "metadata": {},
     "output_type": "execute_result"
    }
   ],
   "source": [
    "round(np.sqrt(-1/2*np.log(0.0001/2)), 4)"
   ]
  },
  {
   "cell_type": "markdown",
   "metadata": {},
   "source": [
    "Так как значение статистики значительно превышает квантиль распределения Колмогорова мы отвергаем нулевую гипотезу об однородности распределений и заключаем, что источник является радиоактивным"
   ]
  },
  {
   "cell_type": "markdown",
   "metadata": {},
   "source": [
    "### Оценка вероятности распада"
   ]
  },
  {
   "cell_type": "markdown",
   "metadata": {},
   "source": [
    "Определим скоросчть счета событий от источника, воспользовавшись формулой:"
   ]
  },
  {
   "cell_type": "markdown",
   "metadata": {},
   "source": [
    "$$\n",
    "    I_{full} = I_{background} + I_{source}\n",
    "$$"
   ]
  },
  {
   "cell_type": "code",
   "execution_count": 19,
   "metadata": {},
   "outputs": [
    {
     "data": {
      "text/plain": [
       "3.3515151515151516"
      ]
     },
     "execution_count": 19,
     "metadata": {},
     "output_type": "execute_result"
    }
   ],
   "source": [
    "I = I_1 + I_2\n",
    "\n",
    "I"
   ]
  },
  {
   "cell_type": "markdown",
   "metadata": {},
   "source": [
    "Оценим вероятность $\\beta$ - распада частиц $^{40}K$. \n",
    "\n",
    "Будем считать, что детектор закрывает 10 $\\%$ полного телесного угла, в который вылетают продукты распада. "
   ]
  },
  {
   "cell_type": "markdown",
   "metadata": {},
   "source": [
    "Вероятность можно оценить из следующего соотношения:"
   ]
  },
  {
   "cell_type": "markdown",
   "metadata": {},
   "source": [
    "$$\n",
    "    W = 0.1 \\cdot\\displaystyle\\frac{\\overline{N(^{40}K) } }{N_{a}\\, \\frac{m}{M} \\,\\nu\\, t\\, \\frac{\\ln 2}{T_{\\frac12}}}\n",
    "$$"
   ]
  },
  {
   "cell_type": "markdown",
   "metadata": {},
   "source": [
    "здесь "
   ]
  },
  {
   "cell_type": "markdown",
   "metadata": {},
   "source": [
    "$N_{a}$ - число Авогадро "
   ]
  },
  {
   "cell_type": "markdown",
   "metadata": {},
   "source": [
    "$m$ - масса источника"
   ]
  },
  {
   "cell_type": "markdown",
   "metadata": {},
   "source": [
    "$M$ - молярная масса"
   ]
  },
  {
   "cell_type": "markdown",
   "metadata": {},
   "source": [
    "$\\nu$ - процентное содержание $^{40}K$ в источнике ($\\nu = 0.012$)"
   ]
  },
  {
   "cell_type": "markdown",
   "metadata": {},
   "source": [
    "$t$ - время одного счета"
   ]
  },
  {
   "cell_type": "markdown",
   "metadata": {},
   "source": [
    "$T_{\\frac12}$ - период полураспада ($ T_{\\frac12} = 1.248\\cdot 10^9$ лет)"
   ]
  },
  {
   "cell_type": "markdown",
   "metadata": {},
   "source": [
    "фактор 0.1 связан с телесным углом"
   ]
  },
  {
   "cell_type": "code",
   "execution_count": 20,
   "metadata": {},
   "outputs": [],
   "source": [
    "N_a = 6.0221409*10**(23) # 1/моль\n",
    "m = 500 # г\n",
    "M = 94 # г/моль\n",
    "nu = 0.012/100\n",
    "T = 1.248*10**(9)*365*24*3600 # секунд"
   ]
  },
  {
   "cell_type": "code",
   "execution_count": 21,
   "metadata": {},
   "outputs": [
    {
     "data": {
      "text/plain": [
       "2.9294107263451604e-05"
      ]
     },
     "execution_count": 21,
     "metadata": {},
     "output_type": "execute_result"
    }
   ],
   "source": [
    "0.1*mu_2/(N_a*m/M*nu*np.log(2)*t/T)"
   ]
  }
 ],
 "metadata": {
  "kernelspec": {
   "display_name": "Python 3",
   "language": "python",
   "name": "python3"
  },
  "language_info": {
   "codemirror_mode": {
    "name": "ipython",
    "version": 3
   },
   "file_extension": ".py",
   "mimetype": "text/x-python",
   "name": "python",
   "nbconvert_exporter": "python",
   "pygments_lexer": "ipython3",
   "version": "3.7.4"
  }
 },
 "nbformat": 4,
 "nbformat_minor": 2
}
