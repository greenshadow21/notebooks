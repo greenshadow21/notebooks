{
 "cells": [
  {
   "cell_type": "code",
   "execution_count": 1,
   "metadata": {},
   "outputs": [],
   "source": [
    "import numpy as np\n",
    "import matplotlib.pyplot as plt\n",
    "import networkx as nx\n",
    "import time\n",
    "import cvxpy as cvx\n",
    "from scipy import linalg, sparse\n",
    "from scipy.optimize import minimize\n",
    "from typing import Tuple\n",
    "\n",
    "%matplotlib inline"
   ]
  },
  {
   "cell_type": "markdown",
   "metadata": {},
   "source": [
    "# Моделирование квантового алгоритма QAOA и его сравнение с классическими алгоритмами"
   ]
  },
  {
   "cell_type": "code",
   "execution_count": 2,
   "metadata": {},
   "outputs": [],
   "source": [
    "plt.style.use('seaborn')"
   ]
  },
  {
   "cell_type": "code",
   "execution_count": 3,
   "metadata": {},
   "outputs": [],
   "source": [
    "# Единичная матрица и матрицы Паули \n",
    "gate_I = np.eye(2)\n",
    "gate_X = np.array([[0,1], [1, 0]])\n",
    "gate_Y = np.array([[0,-1j], [1j, 0]])\n",
    "gate_Z = np.array([[1,0], [0, -1]])\n",
    "\n",
    "# гейт Адамара\n",
    "gate_H = 1/np.sqrt(2)*np.array([[1,1], [1, -1]])\n",
    "\n",
    "q_0 = np.array([1, 0])\n",
    "q_1 = np.array([0, 1])"
   ]
  },
  {
   "cell_type": "code",
   "execution_count": 4,
   "metadata": {},
   "outputs": [],
   "source": [
    "def multikron(lst):\n",
    "    result = lst[0]\n",
    "    for i in range(1, len(lst)):\n",
    "        result = np.kron(result, lst[i])\n",
    "    return result"
   ]
  },
  {
   "cell_type": "code",
   "execution_count": 5,
   "metadata": {},
   "outputs": [],
   "source": [
    "def unit(angle, A):\n",
    "    return sparse.linalg.expm(-(1j)*angle*A)"
   ]
  },
  {
   "cell_type": "code",
   "execution_count": 6,
   "metadata": {},
   "outputs": [],
   "source": [
    "def construct_C_improved(nodes, edges):\n",
    "    '''Конструирует гамильтониан по заданному набору вершин и ребер\n",
    "        \n",
    "    Параметры\n",
    "    ==========\n",
    "    \n",
    "    nodes - кортеж вершин\n",
    "    \n",
    "    edges - кортеж ребер\n",
    "    \n",
    "    '''\n",
    "    gate_I = np.array([1, 1])\n",
    "    gate_Z = np.array([1, -1])\n",
    "    C = 1/2*len(edges)*np.array([1]*(2**(len(nodes))))\n",
    "    for i in range(len(edges)):\n",
    "        arguments = []\n",
    "        for j in range(len(nodes)):\n",
    "            arguments.append(gate_I)\n",
    "        for j in edges[i]:\n",
    "            arguments[j] = gate_Z\n",
    "        C -= 1/2*multikron(arguments)\n",
    "    return C"
   ]
  },
  {
   "cell_type": "code",
   "execution_count": 7,
   "metadata": {},
   "outputs": [],
   "source": [
    "def construct_B(n):\n",
    "    '''Конструирует фукнцию В, которая равняется сумме Х-гейтов,\n",
    "    действующих на разные биты.\n",
    "    \n",
    "    Параметры\n",
    "    ==========\n",
    "    \n",
    "    n - число бит (равняется числу вершин графа)\n",
    "    \n",
    "    ''' \n",
    "    B = np.zeros((2**n,2**n))\n",
    "    for i in range(n):\n",
    "        arguments = []\n",
    "        for j in range(n):\n",
    "            arguments.append(gate_I)\n",
    "        arguments[i] = gate_X\n",
    "        B += multikron(arguments)\n",
    "    return B"
   ]
  },
  {
   "cell_type": "code",
   "execution_count": 8,
   "metadata": {},
   "outputs": [],
   "source": [
    "def exp_B_on_ket(state, angle):\n",
    "    \n",
    "    Rotation_operator = linalg.expm((-1j)*angle*gate_X)\n",
    "    \n",
    "    q_0_transformed = np.dot(Rotation_operator, q_0)\n",
    "    q_1_transformed = np.dot(Rotation_operator, q_1)\n",
    "    \n",
    "\n",
    "    decomposed_args = []\n",
    "    z = 0\n",
    "    result = 0\n",
    "    for i in range(len(state)):\n",
    "        s = \"{0:b}\".format(z)\n",
    "        while len(s)<int(np.log2(len(state))):\n",
    "            s = '0' + s\n",
    "        if s[0]=='0':\n",
    "            temporary = np.copy(q_0_transformed)\n",
    "        else:\n",
    "            temporary = np.copy(q_1_transformed)\n",
    "        for j in s[1:]:\n",
    "            if j=='0':\n",
    "                temporary = np.kron(temporary, q_0_transformed)\n",
    "            else:\n",
    "                temporary = np.kron(temporary, q_1_transformed)\n",
    "        result += state[i]*temporary\n",
    "        z+=1\n",
    "    return result"
   ]
  },
  {
   "cell_type": "code",
   "execution_count": 10,
   "metadata": {},
   "outputs": [],
   "source": [
    "def decomposition(psi):\n",
    "    '''Раскладывает вектор по вычислительному базису, возвращает коэффициенты\n",
    "    \n",
    "    Параметры\n",
    "    ==========\n",
    "    \n",
    "    psi - входное состояние\n",
    "    \n",
    "    '''\n",
    "    coef = []\n",
    "    for i in range(len(psi)):\n",
    "        coef.append(np.abs(np.dot(np.eye(len(psi))[i].T, psi))**2)\n",
    "    return coef\n",
    "def measure_comp(coef):\n",
    "    '''Измеряет состояние в вычислительном базисе по заданному состоянию\n",
    "    \n",
    "    Параметры\n",
    "    ==========\n",
    "    \n",
    "    psi - входное состояние\n",
    "    \n",
    "    '''\n",
    "    index = 0\n",
    "    a = coef[index]\n",
    "    k = np.random.rand()\n",
    "    while True:\n",
    "        if k < a:\n",
    "            result = np.array([np.eye(len(coef))[index]])\n",
    "            break\n",
    "        else:\n",
    "            if index+1<len(coef):\n",
    "                index+=1\n",
    "                a+=coef[index]\n",
    "            else:\n",
    "                result = np.array([np.eye(len(coef))[index]])\n",
    "                break \n",
    "    return result[0]"
   ]
  },
  {
   "cell_type": "code",
   "execution_count": 11,
   "metadata": {},
   "outputs": [],
   "source": [
    "def test(Hd, N, coef):\n",
    "    '''\n",
    "    Выдает распределение результатов для заданного состония в виде гистограммы.\n",
    "    Возвращает для максимального найденного разреза:\n",
    "        битовую строку,\n",
    "        число ребер в разрезе,\n",
    "        вероятность получения максимального результата.\n",
    "    \n",
    "    Параметры\n",
    "    ==========\n",
    "    \n",
    "    vertices - кортеж вершин\n",
    "    edges - кортеж ребер\n",
    "    N - число измерений\n",
    "    psi - входное состояние\n",
    "    \n",
    "    '''\n",
    "    d = {}\n",
    "    state = measure_comp(coef)\n",
    "    max_t = 0\n",
    "    for i in range(N):\n",
    "        z = measure_comp(coef)\n",
    "        t = np.abs(np.dot(np.conj(np.transpose(z)), Hd*z))\n",
    "        if t > max_t:\n",
    "            state = z\n",
    "            max_t = t\n",
    "        if t not in d.keys():\n",
    "            d[t] = 1\n",
    "        else:\n",
    "            d[t]+=1\n",
    "    for i in d.keys():\n",
    "        d[i]/=N\n",
    "    plt.bar(d.keys(), d.values(), 1)\n",
    "    return [state, max(list(d.keys())), d[max(list(d.keys()))]]"
   ]
  },
  {
   "cell_type": "code",
   "execution_count": 12,
   "metadata": {},
   "outputs": [],
   "source": [
    "def bits_string(state):\n",
    "    '''\n",
    "    Возвращает битовую строку по заданному состоянию\n",
    "    \n",
    "    Параметры\n",
    "    ==========\n",
    "    \n",
    "    state - входное состояние\n",
    "    \n",
    "    \n",
    "    \n",
    "    '''\n",
    "    a = 0\n",
    "    for i in state:\n",
    "        if i!=1:\n",
    "            a+=1\n",
    "        else:\n",
    "            break\n",
    "    s = \"{0:b}\".format(a)\n",
    "    while len(s)<np.log2(len(state)):\n",
    "        s = '0' + s\n",
    "    return s"
   ]
  },
  {
   "cell_type": "code",
   "execution_count": 13,
   "metadata": {},
   "outputs": [],
   "source": [
    "def color_graph(cut):\n",
    "    '''\n",
    "    Раскрашивает вершины графа для удобной визуализации разреза\n",
    "    \n",
    "    Параметры\n",
    "    ==========\n",
    "    \n",
    "    cut - битовая строка\n",
    "    \n",
    "    '''\n",
    "    color_map = []\n",
    "    for i in cut:\n",
    "        if int(i)==0:\n",
    "            color_map.append('#1e90ff')\n",
    "        else: \n",
    "            color_map.append('#FFDB58')\n",
    "    return color_map"
   ]
  },
  {
   "cell_type": "markdown",
   "metadata": {},
   "source": [
    "## Классический алгоритм\n",
    "\n",
    "Код взят из этой [статьи](https://arxiv.org/abs/1811.08419)"
   ]
  },
  {
   "cell_type": "code",
   "execution_count": 14,
   "metadata": {},
   "outputs": [],
   "source": [
    "def goemans_williamson(graph: nx.Graph) -> Tuple[np.ndarray, float, float]:\n",
    "    \"\"\"\n",
    "    The Goemans-Williamson algorithm for solving the maxcut problem.\n",
    "\n",
    "    Ref:\n",
    "        Goemans, M.X. and Williamson, D.P., 1995. Improved approximation\n",
    "        algorithms for maximum cut and satisfiability problems using\n",
    "        semidefinite programming. Journal of the ACM (JACM), 42(6), 1115-1145\n",
    "    Returns:\n",
    "        np.ndarray: Graph coloring (+/-1 for each node)\n",
    "        float:      The GW score for this cut.\n",
    "        float:      The GW bound from the SDP relaxation\n",
    "    \"\"\"\n",
    "    # Kudos: Originally implementation by Nick Rubin, with refactoring and\n",
    "    # cleanup by Jonathon Ward and Gavin E. Crooks\n",
    "    laplacian = np.array(0.25 * nx.laplacian_matrix(graph).todense())\n",
    "\n",
    "    # Setup and solve the GW semidefinite programming problem\n",
    "    psd_mat = cvx.Variable(laplacian.shape, PSD=True)\n",
    "    obj = cvx.Maximize(cvx.trace(laplacian * psd_mat))\n",
    "    constraints = [cvx.diag(psd_mat) == 1]  # unit norm\n",
    "    prob = cvx.Problem(obj, constraints)\n",
    "    prob.solve(solver=cvx.CVXOPT)\n",
    "\n",
    "    evals, evects = np.linalg.eigh(psd_mat.value)\n",
    "    sdp_vectors = evects.T[evals > float(1.0E-6)].T\n",
    "\n",
    "    # Bound from the SDP relaxation\n",
    "    bound = np.trace(laplacian @ psd_mat.value)\n",
    "\n",
    "    random_vector = np.random.randn(sdp_vectors.shape[1])\n",
    "    random_vector /= np.linalg.norm(random_vector)\n",
    "    colors = np.sign([vec @ random_vector for vec in sdp_vectors])\n",
    "    score = colors @ laplacian @ colors.T\n",
    "\n",
    "    return colors, score, bound"
   ]
  },
  {
   "cell_type": "code",
   "execution_count": 153,
   "metadata": {},
   "outputs": [],
   "source": [
    "global_start = time.time()"
   ]
  },
  {
   "cell_type": "code",
   "execution_count": 15,
   "metadata": {},
   "outputs": [],
   "source": [
    "G = nx.Graph()"
   ]
  },
  {
   "cell_type": "code",
   "execution_count": 155,
   "metadata": {},
   "outputs": [],
   "source": [
    "G.add_nodes_from([0, 1, 2, 3])\n",
    "G.add_edges_from(((0,1), (1, 2), (2, 3), (0, 3), (0, 2), (1, 3)))"
   ]
  },
  {
   "cell_type": "code",
   "execution_count": 16,
   "metadata": {
    "scrolled": true
   },
   "outputs": [
    {
     "data": {
      "image/png": "[encoded data removed]",
      "text/plain": [
       "<Figure size 576x396 with 1 Axes>"
      ]
     },
     "metadata": {},
     "output_type": "display_data"
    }
   ],
   "source": [
    "G = nx.petersen_graph()\n",
    "nodes = sorted(tuple(G.nodes))\n",
    "edges = tuple(G.edges)\n",
    "nx.draw_shell(G, nlist=[range(5, 10), range(5)], with_labels=True, font_weight='bold')"
   ]
  },
  {
   "cell_type": "markdown",
   "metadata": {},
   "source": [
    "Найдем разрез с помощью классического алгоритма "
   ]
  },
  {
   "cell_type": "code",
   "execution_count": 157,
   "metadata": {},
   "outputs": [],
   "source": [
    "classic_scores = []\n",
    "for i in range(1000):\n",
    "    partition, _, bound = goemans_williamson(G)\n",
    "    classic_scores.append(_)\n",
    "classic_score = np.mean(classic_scores)\n",
    "result = max(classic_scores)\n",
    "proba = classic_scores.count(result)/1000"
   ]
  },
  {
   "cell_type": "code",
   "execution_count": 158,
   "metadata": {},
   "outputs": [],
   "source": [
    "# Заменим -1 на 0\n",
    "np.place(partition, partition<0, 0)"
   ]
  },
  {
   "cell_type": "markdown",
   "metadata": {},
   "source": [
    "Конструируем гамильтониан"
   ]
  },
  {
   "cell_type": "code",
   "execution_count": 17,
   "metadata": {},
   "outputs": [
    {
     "data": {
      "text/plain": [
       "array([0., 3., 3., ..., 3., 3., 0.])"
      ]
     },
     "execution_count": 17,
     "metadata": {},
     "output_type": "execute_result"
    }
   ],
   "source": [
    "hamiltonian = construct_C_improved(nodes, edges)\n",
    "\n",
    "hamiltonian"
   ]
  },
  {
   "cell_type": "code",
   "execution_count": 18,
   "metadata": {},
   "outputs": [],
   "source": [
    "full_hamiltonian = np.diag(hamiltonian)"
   ]
  },
  {
   "cell_type": "markdown",
   "metadata": {},
   "source": [
    "Конструируем оператор B"
   ]
  },
  {
   "cell_type": "code",
   "execution_count": 19,
   "metadata": {},
   "outputs": [
    {
     "data": {
      "text/plain": [
       "array([[0., 1., 1., ..., 0., 0., 0.],\n",
       "       [1., 0., 0., ..., 0., 0., 0.],\n",
       "       [1., 0., 0., ..., 0., 0., 0.],\n",
       "       ...,\n",
       "       [0., 0., 0., ..., 0., 0., 1.],\n",
       "       [0., 0., 0., ..., 0., 0., 1.],\n",
       "       [0., 0., 0., ..., 1., 1., 0.]])"
      ]
     },
     "execution_count": 19,
     "metadata": {},
     "output_type": "execute_result"
    }
   ],
   "source": [
    "B = construct_B(len(nodes))\n",
    "\n",
    "B"
   ]
  },
  {
   "cell_type": "code",
   "execution_count": 20,
   "metadata": {},
   "outputs": [],
   "source": [
    "maxiter = 50"
   ]
  },
  {
   "cell_type": "markdown",
   "metadata": {},
   "source": [
    "Зададим сетку углов"
   ]
  },
  {
   "cell_type": "code",
   "execution_count": 21,
   "metadata": {},
   "outputs": [],
   "source": [
    "gamma = np.arange(0, 2*np.pi, 2*np.pi/5)\n",
    "beta = np.arange(0, np.pi, np.pi/5)"
   ]
  },
  {
   "cell_type": "markdown",
   "metadata": {},
   "source": [
    "Чтобы не создавать заново унитарные матрицы в процессе работы алгоритма, определим лист, к которому и будем обращаться"
   ]
  },
  {
   "cell_type": "code",
   "execution_count": 22,
   "metadata": {},
   "outputs": [],
   "source": [
    "B_unit = [unit(i, B) for i in beta]"
   ]
  },
  {
   "cell_type": "code",
   "execution_count": 23,
   "metadata": {},
   "outputs": [],
   "source": [
    "C_unit = []\n",
    "for i in gamma:\n",
    "    temp = np.zeros(len(hamiltonian), dtype=complex)\n",
    "    for j in range(len(hamiltonian)):\n",
    "        temp[j] = np.exp(-(1j)*i*hamiltonian[j])\n",
    "    C_unit.append(temp)"
   ]
  },
  {
   "cell_type": "markdown",
   "metadata": {},
   "source": [
    "Определим начальное состояние"
   ]
  },
  {
   "cell_type": "code",
   "execution_count": 24,
   "metadata": {},
   "outputs": [
    {
     "data": {
      "text/plain": [
       "array([0.03125, 0.03125, 0.03125, ..., 0.03125, 0.03125, 0.03125])"
      ]
     },
     "execution_count": 24,
     "metadata": {},
     "output_type": "execute_result"
    }
   ],
   "source": [
    "init = np.array([1/np.sqrt(2**10)]*1024)\n",
    "\n",
    "init"
   ]
  },
  {
   "cell_type": "markdown",
   "metadata": {},
   "source": [
    "Максимизируем среднее $F_p = \\langle \\gamma\\beta | \\hat{H} | \\gamma\\beta\\rangle$"
   ]
  },
  {
   "cell_type": "markdown",
   "metadata": {},
   "source": [
    "# p=1"
   ]
  },
  {
   "cell_type": "markdown",
   "metadata": {},
   "source": [
    "Для начала проведем перебор углов, что не займет много времени, затем используем полученные значения в качестве первого шага оптимизации"
   ]
  },
  {
   "cell_type": "code",
   "execution_count": 25,
   "metadata": {},
   "outputs": [],
   "source": [
    "F_p = np.zeros((len(gamma), len(beta)))"
   ]
  },
  {
   "cell_type": "code",
   "execution_count": 26,
   "metadata": {},
   "outputs": [],
   "source": [
    "for i in range(len(gamma)):\n",
    "    for j in range(len(beta)):\n",
    "        psi = np.dot(B_unit[j], C_unit[i]*init)\n",
    "        F_p[i][j] = np.abs(np.dot(np.conj(np.transpose(psi)), hamiltonian*psi))"
   ]
  },
  {
   "cell_type": "code",
   "execution_count": 27,
   "metadata": {},
   "outputs": [],
   "source": [
    "beta_bru, gamma_bru = np.where(F_p==np.max(F_p))[1][0], np.where(F_p==np.max(F_p))[0][0]"
   ]
  },
  {
   "cell_type": "code",
   "execution_count": 28,
   "metadata": {},
   "outputs": [],
   "source": [
    "def f_1p(angle):\n",
    "    temp = [np.exp((-1j)*angle[0]*i) for i in hamiltonian]\n",
    "    psi = exp_B_on_ket(temp*init, angle[1])\n",
    "    return -np.abs(np.dot(np.conj(np.transpose(psi)), hamiltonian*psi))"
   ]
  },
  {
   "cell_type": "code",
   "execution_count": 29,
   "metadata": {},
   "outputs": [],
   "source": [
    "bnds = ((0, 2*np.pi), (0, np.pi))"
   ]
  },
  {
   "cell_type": "code",
   "execution_count": 30,
   "metadata": {},
   "outputs": [],
   "source": [
    "x0 = [gamma[gamma_bru], beta[beta_bru]]"
   ]
  },
  {
   "cell_type": "code",
   "execution_count": 31,
   "metadata": {},
   "outputs": [
    {
     "name": "stdout",
     "output_type": "stream",
     "text": [
      "-10.386751345945896 20.579615116119385\n"
     ]
    }
   ],
   "source": [
    "start = time.time()\n",
    "\n",
    "res = minimize(f_1p, x0, method='L-BFGS-B',\n",
    "               options={'gtol': 1e-6, 'disp': True},\n",
    "               bounds=bnds)\n",
    "\n",
    "print(res.fun, time.time()-start)"
   ]
  },
  {
   "cell_type": "code",
   "execution_count": 32,
   "metadata": {},
   "outputs": [
    {
     "data": {
      "text/plain": [
       "-10.386751345945896"
      ]
     },
     "execution_count": 32,
     "metadata": {},
     "output_type": "execute_result"
    }
   ],
   "source": [
    "res.fun"
   ]
  },
  {
   "cell_type": "code",
   "execution_count": 33,
   "metadata": {},
   "outputs": [],
   "source": [
    "beta_opt_p_1 = res.x[1]\n",
    "gamma_opt_p_1 = res.x[0]"
   ]
  },
  {
   "cell_type": "code",
   "execution_count": 34,
   "metadata": {},
   "outputs": [
    {
     "data": {
      "text/plain": [
       "(1.1780971812194818, 3.757071862465302)"
      ]
     },
     "execution_count": 34,
     "metadata": {},
     "output_type": "execute_result"
    }
   ],
   "source": [
    "beta_opt_p_1, gamma_opt_p_1 "
   ]
  },
  {
   "cell_type": "code",
   "execution_count": 35,
   "metadata": {},
   "outputs": [],
   "source": [
    "psi_res =  np.dot(unit(beta_opt_p_1, B), np.dot(unit(gamma_opt_p_1, np.diag(hamiltonian)), init))"
   ]
  },
  {
   "cell_type": "code",
   "execution_count": 36,
   "metadata": {},
   "outputs": [],
   "source": [
    "q_score_p_1 = np.abs(np.dot(np.conj(np.transpose(psi_res)), hamiltonian*psi_res))"
   ]
  },
  {
   "cell_type": "code",
   "execution_count": 37,
   "metadata": {
    "scrolled": true
   },
   "outputs": [
    {
     "data": {
      "image/png": "[encoded data removed]",
      "text/plain": [
       "<Figure size 576x396 with 1 Axes>"
      ]
     },
     "metadata": {},
     "output_type": "display_data"
    }
   ],
   "source": [
    "q_partition_p_1, q_result_p_1, q_proba_p_1 = test(hamiltonian, 1000, decomposition(psi_res))"
   ]
  },
  {
   "cell_type": "code",
   "execution_count": 38,
   "metadata": {},
   "outputs": [
    {
     "data": {
      "text/plain": [
       "array([0., 0., 0., ..., 0., 0., 0.])"
      ]
     },
     "execution_count": 38,
     "metadata": {},
     "output_type": "execute_result"
    }
   ],
   "source": [
    "q_partition_p_1"
   ]
  },
  {
   "cell_type": "markdown",
   "metadata": {},
   "source": [
    "# p=2"
   ]
  },
  {
   "cell_type": "code",
   "execution_count": 39,
   "metadata": {},
   "outputs": [],
   "source": [
    "F_p = np.zeros((len(gamma), len(beta), len(gamma), len(beta)))\n",
    "\n",
    "for i in range(len(gamma)):\n",
    "    for j in range(len(beta)):\n",
    "        for m in range(len(gamma)):\n",
    "            for k in range(len(beta)):\n",
    "                temp = C_unit[i]*init\n",
    "                temp = np.dot(B_unit[j], temp)\n",
    "                temp = C_unit[m]*temp\n",
    "                psi = np.dot(B_unit[k], temp)\n",
    "                F_p[i][j][m][k] = np.abs(np.dot(np.conj(np.transpose(psi)), hamiltonian*psi))"
   ]
  },
  {
   "cell_type": "code",
   "execution_count": 40,
   "metadata": {},
   "outputs": [],
   "source": [
    "x0 = []\n",
    "for i, j in enumerate(np.where(F_p==np.max(F_p))):\n",
    "    if i%2==0:\n",
    "        x0.append(gamma[j[0]])\n",
    "    else:\n",
    "        x0.append(beta[j[0]])"
   ]
  },
  {
   "cell_type": "code",
   "execution_count": 41,
   "metadata": {},
   "outputs": [],
   "source": [
    "def f_2p(angle):\n",
    "    \n",
    "    C_psi = [np.exp((-1j)*angle[0]*i) for i in hamiltonian]\n",
    "    psi = exp_B_on_ket(C_psi*init, angle[1])\n",
    "    \n",
    "    temp = [np.exp((-1j)*angle[2]*i) for i in hamiltonian]\n",
    "    psi = exp_B_on_ket(temp*psi, angle[3])\n",
    "    \n",
    "    return -np.abs(np.dot(np.conj(psi), hamiltonian*psi))"
   ]
  },
  {
   "cell_type": "code",
   "execution_count": 42,
   "metadata": {},
   "outputs": [
    {
     "name": "stdout",
     "output_type": "stream",
     "text": [
      "-10.936384543101974 137.38950896263123\n"
     ]
    }
   ],
   "source": [
    "bnds = ((0, 2*np.pi), (0, np.pi), (0, 2*np.pi), (0, np.pi))\n",
    "start = time.time()\n",
    "\n",
    "res = minimize(f_2p, x0, method='L-BFGS-B',\n",
    "               options={'gtol': 1e-6, 'disp': True},\n",
    "               bounds=bnds)\n",
    "\n",
    "print(res.fun, time.time()-start)"
   ]
  },
  {
   "cell_type": "code",
   "execution_count": 43,
   "metadata": {},
   "outputs": [
    {
     "data": {
      "text/plain": [
       "array([3.80728373, 1.33469538, 4.93853531, 1.81374681])"
      ]
     },
     "execution_count": 43,
     "metadata": {},
     "output_type": "execute_result"
    }
   ],
   "source": [
    "res.x"
   ]
  },
  {
   "cell_type": "code",
   "execution_count": 44,
   "metadata": {},
   "outputs": [],
   "source": [
    "beta_opt_p_2 = []\n",
    "gamma_opt_p_2 = []\n",
    "for i, j in enumerate(res.x):\n",
    "    if i%2==0:\n",
    "        gamma_opt_p_2.append(j)\n",
    "    else:\n",
    "        beta_opt_p_2.append(j)\n",
    "beta_opt_p_2 = np.array(beta_opt_p_2)\n",
    "gamma_opt_p_2 = np.array(gamma_opt_p_2)"
   ]
  },
  {
   "cell_type": "code",
   "execution_count": 45,
   "metadata": {},
   "outputs": [
    {
     "data": {
      "text/plain": [
       "(1.8137468104900074, 4.938535314611953, 1.3346953820695795, 3.807283732038734)"
      ]
     },
     "execution_count": 45,
     "metadata": {},
     "output_type": "execute_result"
    }
   ],
   "source": [
    "res.x[3], res.x[2], res.x[1], res.x[0]"
   ]
  },
  {
   "cell_type": "code",
   "execution_count": 46,
   "metadata": {},
   "outputs": [],
   "source": [
    "psi_res =  np.dot(unit(res.x[3], B), np.dot(unit(res.x[2], np.diag(hamiltonian)), np.dot(unit(res.x[1], B), \n",
    "                 np.dot(unit(res.x[0], np.diag(hamiltonian)), init))))"
   ]
  },
  {
   "cell_type": "code",
   "execution_count": 55,
   "metadata": {},
   "outputs": [
    {
     "name": "stdout",
     "output_type": "stream",
     "text": [
      "-0.001 + 0.002 * I\n"
     ]
    }
   ],
   "source": [
    "print(('%.3f + %.3f * I') % (np.real(psi_res[0]), np.imag(psi_res[0])))"
   ]
  },
  {
   "cell_type": "code",
   "execution_count": 67,
   "metadata": {},
   "outputs": [
    {
     "data": {
      "text/plain": [
       "1024"
      ]
     },
     "execution_count": 67,
     "metadata": {},
     "output_type": "execute_result"
    }
   ],
   "source": [
    "len(psi_res)"
   ]
  },
  {
   "cell_type": "code",
   "execution_count": 69,
   "metadata": {},
   "outputs": [
    {
     "name": "stdout",
     "output_type": "stream",
     "text": [
      "1024\n"
     ]
    }
   ],
   "source": [
    "f = open(\"my_state.csv\", \"w\")\n",
    "f.write('real, imag\\n')\n",
    "j = 0\n",
    "for i in psi_res:\n",
    "    j+=1\n",
    "    f.write(('%f,%f\\n') % (np.real(i), np.imag(i)))\n",
    "print(j)"
   ]
  },
  {
   "cell_type": "code",
   "execution_count": 189,
   "metadata": {},
   "outputs": [],
   "source": [
    "q_score_p_2 = np.abs(np.dot(np.conj(psi_res), hamiltonian*psi_res))"
   ]
  },
  {
   "cell_type": "code",
   "execution_count": 190,
   "metadata": {},
   "outputs": [
    {
     "data": {
      "image/png": "[encoded data removed]",
      "text/plain": [
       "<Figure size 576x396 with 1 Axes>"
      ]
     },
     "metadata": {},
     "output_type": "display_data"
    }
   ],
   "source": [
    "q_partition_p_2, q_result_p_2, q_proba_p_2 = test(hamiltonian, 1000, decomposition(psi_res))"
   ]
  },
  {
   "cell_type": "markdown",
   "metadata": {},
   "source": [
    "# p=3"
   ]
  },
  {
   "cell_type": "code",
   "execution_count": 191,
   "metadata": {},
   "outputs": [],
   "source": [
    "F_p = np.zeros((len(gamma), len(beta), len(gamma), len(beta), len(gamma), len(beta)))\n",
    "\n",
    "for i in range(len(gamma)):\n",
    "    for j in range(len(beta)):\n",
    "        for m in range(len(gamma)):\n",
    "            for k in range(len(beta)):\n",
    "                for p in range(len(gamma)):\n",
    "                    for q in range(len(beta)):\n",
    "                        temp = C_unit[i]*init\n",
    "                        temp = np.dot(B_unit[j], temp)\n",
    "                        temp = C_unit[m]*temp\n",
    "                        temp = np.dot(B_unit[k], temp)\n",
    "                        temp = C_unit[p]*temp\n",
    "                        psi = np.dot(B_unit[q], temp)\n",
    "                        F_p[i][j][m][k][p][q] = np.abs(np.dot(np.conj(np.transpose(psi)), hamiltonian*psi))"
   ]
  },
  {
   "cell_type": "code",
   "execution_count": 192,
   "metadata": {},
   "outputs": [
    {
     "data": {
      "text/plain": [
       "(array([2]), array([1]), array([2]), array([2]), array([3]), array([2]))"
      ]
     },
     "execution_count": 192,
     "metadata": {},
     "output_type": "execute_result"
    }
   ],
   "source": [
    "np.where(F_p==np.max(F_p))"
   ]
  },
  {
   "cell_type": "code",
   "execution_count": 193,
   "metadata": {},
   "outputs": [],
   "source": [
    "x0 = []\n",
    "for i, j in enumerate(np.where(F_p==np.max(F_p))):\n",
    "    if i%2==0:\n",
    "        x0.append(gamma[j[0]])\n",
    "    else:\n",
    "        x0.append(beta[j[0]])"
   ]
  },
  {
   "cell_type": "code",
   "execution_count": 194,
   "metadata": {},
   "outputs": [
    {
     "data": {
      "text/plain": [
       "10.736457998224601"
      ]
     },
     "execution_count": 194,
     "metadata": {},
     "output_type": "execute_result"
    }
   ],
   "source": [
    "np.max(F_p)"
   ]
  },
  {
   "cell_type": "code",
   "execution_count": 195,
   "metadata": {},
   "outputs": [],
   "source": [
    "def f_3p(angle):\n",
    "    \n",
    "    C_psi = [np.exp((-1j)*angle[0]*i) for i in hamiltonian]\n",
    "\n",
    "    psi = exp_B_on_ket(C_psi*init, angle[1])\n",
    "    \n",
    "    temp = [np.exp((-1j)*angle[2]*i) for i in hamiltonian]\n",
    "\n",
    "    psi = exp_B_on_ket(temp*psi, angle[3])\n",
    "    \n",
    "    C_psi = [np.exp((-1j)*angle[4]*i) for i in hamiltonian]\n",
    "    psi = exp_B_on_ket(C_psi*psi, angle[5])\n",
    "    \n",
    "    return -np.abs(np.dot(np.conj(psi), hamiltonian*psi))"
   ]
  },
  {
   "cell_type": "code",
   "execution_count": null,
   "metadata": {},
   "outputs": [],
   "source": [
    "s = time.time()\n",
    "\n",
    "bnds = ((0, 2*np.pi), (0, np.pi), (0, 2*np.pi), (0, np.pi), (0, 2*np.pi), (0, np.pi))\n",
    "res = minimize(f_3p, x0, method='L-BFGS-B',\n",
    "               options={'gtol': 1e-6, 'disp': True},\n",
    "               bounds=bnds)\n",
    "\n",
    "print(res.fun, time.time()-s)"
   ]
  },
  {
   "cell_type": "code",
   "execution_count": null,
   "metadata": {},
   "outputs": [],
   "source": [
    "beta_opt_p_3 = np.zeros(3)\n",
    "gamma_opt_p_3 = np.zeros(3)"
   ]
  },
  {
   "cell_type": "code",
   "execution_count": null,
   "metadata": {},
   "outputs": [],
   "source": [
    "beta_opt_p_3 = []\n",
    "gamma_opt_p_3 = []\n",
    "for i, j in enumerate(res.x):\n",
    "    if i%2==0:\n",
    "        gamma_opt_p_3.append(j)\n",
    "    else:\n",
    "        beta_opt_p_3.append(j)\n",
    "beta_opt_p_3 = np.array(beta_opt_p_3)\n",
    "gamma_opt_p_3 = np.array(gamma_opt_p_3)"
   ]
  },
  {
   "cell_type": "code",
   "execution_count": null,
   "metadata": {},
   "outputs": [],
   "source": [
    "psi_res =  np.dot(unit(res.x[5], B),\n",
    "                  np.dot(unit(res.x[4], np.diag(hamiltonian)), \n",
    "                  np.dot(unit(res.x[3], B), \n",
    "                         np.dot(unit(res.x[2], np.diag(hamiltonian)), \n",
    "                                np.dot(unit(res.x[1], B), \n",
    "                                     np.dot(unit(res.x[0], np.diag(hamiltonian)), init))))))"
   ]
  },
  {
   "cell_type": "code",
   "execution_count": null,
   "metadata": {},
   "outputs": [],
   "source": [
    "q_score_p_3 = np.abs(np.dot(np.conj(psi_res), hamiltonian*psi_res))"
   ]
  },
  {
   "cell_type": "code",
   "execution_count": null,
   "metadata": {
    "scrolled": true
   },
   "outputs": [],
   "source": [
    "q_partition_p_3, q_result_p_3, q_proba_p_3 = test(hamiltonian, 1000, decomposition(psi_res))"
   ]
  },
  {
   "cell_type": "code",
   "execution_count": null,
   "metadata": {},
   "outputs": [],
   "source": [
    "t = time.time()-global_start"
   ]
  },
  {
   "cell_type": "code",
   "execution_count": null,
   "metadata": {},
   "outputs": [],
   "source": [
    "m = t//60\n",
    "s = t - (t//60)*60\n",
    "print('Время работы программы %d минут %d секунд' % (m, s))"
   ]
  },
  {
   "cell_type": "code",
   "execution_count": null,
   "metadata": {},
   "outputs": [],
   "source": [
    "fig  =  plt.figure(1)\n",
    "ax   = fig.add_subplot(111)\n",
    "plt.minorticks_on()\n",
    "ax.axvline(1, color='white', lw=1)\n",
    "ax.axvline(2, color='white', lw=1)\n",
    "ax.axvline(3, color='white', lw=1)\n",
    "plt.scatter([1, 2, 3], [q_score_p_1/12, q_score_p_2/12, q_score_p_3/12], label='QAOA', s=65)\n",
    "#plt.axis([0, 4, 8, 14])\n",
    "ax.axhline(classic_score/12, color='yellow', label='Goemans-Williamson')\n",
    "plt.grid(which = 'major', linestyle = '-', linewidth = '0.5')\n",
    "plt.grid(which = 'minor', linestyle = '-', linewidth = '0.2')\n",
    "plt.xlabel(u'$p$', fontsize=20)\n",
    "plt.ylabel(u'$Mean\\;\\;\\;Ratio$', fontsize=20)\n",
    "plt.tight_layout() \n",
    "for tick in ax.xaxis.get_major_ticks():\n",
    "    tick.label.set_fontsize(18) \n",
    "for tick in ax.yaxis.get_major_ticks():\n",
    "    tick.label.set_fontsize(18) \n",
    "plt.xticks([1, 2, 3])\n",
    "legend = ax.legend(loc='upper left',frameon='True', fontsize='19') #bbox_to_anchor=(1.55, 1, 0, 0)\n",
    "legend.get_frame().set_facecolor('#FFFFFF')\n",
    "plt.savefig('ResultPG', dpi=1200, bbox_extra_artists=(legend,), bbox_inches='tight')\n",
    "plt.show()"
   ]
  },
  {
   "cell_type": "code",
   "execution_count": null,
   "metadata": {},
   "outputs": [],
   "source": [
    "fig  =  plt.figure(1)\n",
    "ax   = fig.add_subplot(111)\n",
    "plt.minorticks_on()\n",
    "plt.scatter([1, 2, 3], [q_proba_p_1, q_proba_p_2, q_proba_p_3], label='probability')\n",
    "plt.axis([0, 4, 0, 1])\n",
    "ax.axhline(proba, color='yellow', label='classic score')\n",
    "plt.grid(which = 'major', linestyle = '-', linewidth = '0.5')\n",
    "plt.grid(which = 'minor', linestyle = '-', linewidth = '0.2')\n",
    "plt.xlabel(u'$p$', fontsize=15)\n",
    "plt.ylabel(u'$Scores$', fontsize=15)\n",
    "plt.tight_layout()\n",
    "legend = ax.legend(loc='best',frameon='True', fontsize='x-large')\n",
    "legend.get_frame().set_facecolor('#FFFFFF')\n",
    "plt.show()"
   ]
  },
  {
   "cell_type": "code",
   "execution_count": null,
   "metadata": {},
   "outputs": [],
   "source": [
    "fig  =  plt.figure(1)\n",
    "ax   = fig.add_subplot(111)\n",
    "plt.minorticks_on()\n",
    "plt.scatter([1, 2, 3], [gamma_opt_p_1, gamma_opt_p_2[0], gamma_opt_p_3[0]], label='probability')\n",
    "plt.scatter([2, 3], [gamma_opt_p_2[1], gamma_opt_p_3[1]])\n",
    "plt.scatter([3], [gamma_opt_p_3[2]])\n",
    "ax.axhline(proba, color='yellow', label='classic score')\n",
    "plt.grid(which = 'major', linestyle = '-', linewidth = '0.5')\n",
    "plt.grid(which = 'minor', linestyle = '-', linewidth = '0.2')\n",
    "plt.xlabel(u'$p$', fontsize=15)\n",
    "plt.ylabel(u'$Scores$', fontsize=15)\n",
    "plt.tight_layout()\n",
    "legend = ax.legend(loc='best',frameon='True', fontsize='x-large')\n",
    "legend.get_frame().set_facecolor('#FFFFFF')\n",
    "plt.show()"
   ]
  },
  {
   "cell_type": "code",
   "execution_count": 3,
   "metadata": {},
   "outputs": [
    {
     "data": {
      "image/png": "[encoded data removed]",
      "text/plain": [
       "<Figure size 432x288 with 1 Axes>"
      ]
     },
     "metadata": {},
     "output_type": "display_data"
    }
   ],
   "source": [
    "G = nx.petersen_graph()\n",
    "nodes = sorted(tuple(G.nodes))\n",
    "edges = tuple(G.edges)\n",
    "nx.draw_shell(G, nlist=[range(5, 10), range(5)], with_labels=True, font_weight='bold')"
   ]
  },
  {
   "cell_type": "code",
   "execution_count": 4,
   "metadata": {},
   "outputs": [
    {
     "data": {
      "text/plain": [
       "[0, 1, 2, 3, 4, 5, 6, 7, 8, 9]"
      ]
     },
     "execution_count": 4,
     "metadata": {},
     "output_type": "execute_result"
    }
   ],
   "source": [
    "nodes"
   ]
  },
  {
   "cell_type": "code",
   "execution_count": 8,
   "metadata": {
    "scrolled": true
   },
   "outputs": [
    {
     "name": "stdout",
     "output_type": "stream",
     "text": [
      "{{0, 1}, {0, 4}, {0, 5}, {1, 2}, {1, 6}, {2, 3}, {2, 7}, {3, 4}, {3, 8}, {4, 9}, {5, 7}, {5, 8}, {6, 8}, {6, 9}, {7, 9}, }\n"
     ]
    }
   ],
   "source": [
    "print('{', end='')\n",
    "for i in edges:\n",
    "    print('{%d, %d},' % (i[0], i[1]), end = ' ')\n",
    "print('}')"
   ]
  },
  {
   "cell_type": "code",
   "execution_count": null,
   "metadata": {},
   "outputs": [],
   "source": [
    "tuple(nx.complete_graph(25).edges)"
   ]
  },
  {
   "cell_type": "code",
   "execution_count": null,
   "metadata": {},
   "outputs": [],
   "source": []
  }
 ],
 "metadata": {
  "kernelspec": {
   "display_name": "Python 3",
   "language": "python",
   "name": "python3"
  },
  "language_info": {
   "codemirror_mode": {
    "name": "ipython",
    "version": 3
   },
   "file_extension": ".py",
   "mimetype": "text/x-python",
   "name": "python",
   "nbconvert_exporter": "python",
   "pygments_lexer": "ipython3",
   "version": "3.6.5"
  }
 },
 "nbformat": 4,
 "nbformat_minor": 2
}
